{
 "cells": [
  {
   "cell_type": "markdown",
   "id": "8070b532",
   "metadata": {},
   "source": [
    "# Automatizador de Tarefas em Python"
   ]
  },
  {
   "cell_type": "markdown",
   "id": "7e902134",
   "metadata": {},
   "source": [
    "- Desafio: Você trabalha em uma empresa de investimentos e todos os dias precisa enviar um e-mail com o:\n",
    "\n",
    "- valor da cotação de algumas ações. O e-mail precisa conter as informações dos últimos seis meses:\n",
    "- Cotação mínima da ação\n",
    "- Cotação máxima da ação\n",
    "- Cotação do dia"
   ]
  },
  {
   "cell_type": "markdown",
   "id": "ade1cfa4",
   "metadata": {},
   "source": [
    "# Instalando as Bibliotecas"
   ]
  },
  {
   "cell_type": "code",
   "execution_count": 53,
   "id": "43c1d608",
   "metadata": {},
   "outputs": [
    {
     "name": "stdout",
     "output_type": "stream",
     "text": [
      "Requirement already satisfied: yfinance in c:\\users\\henri\\anaconda3\\lib\\site-packages (0.1.87)\n",
      "Requirement already satisfied: multitasking>=0.0.7 in c:\\users\\henri\\anaconda3\\lib\\site-packages (from yfinance) (0.0.11)\n",
      "Requirement already satisfied: pandas>=0.24.0 in c:\\users\\henri\\anaconda3\\lib\\site-packages (from yfinance) (1.4.4)\n",
      "Requirement already satisfied: requests>=2.26 in c:\\users\\henri\\anaconda3\\lib\\site-packages (from yfinance) (2.28.1)\n",
      "Requirement already satisfied: appdirs>=1.4.4 in c:\\users\\henri\\anaconda3\\lib\\site-packages (from yfinance) (1.4.4)\n",
      "Requirement already satisfied: lxml>=4.5.1 in c:\\users\\henri\\anaconda3\\lib\\site-packages (from yfinance) (4.9.1)\n",
      "Requirement already satisfied: numpy>=1.15 in c:\\users\\henri\\anaconda3\\lib\\site-packages (from yfinance) (1.21.5)\n",
      "Requirement already satisfied: python-dateutil>=2.8.1 in c:\\users\\henri\\anaconda3\\lib\\site-packages (from pandas>=0.24.0->yfinance) (2.8.2)\n",
      "Requirement already satisfied: pytz>=2020.1 in c:\\users\\henri\\anaconda3\\lib\\site-packages (from pandas>=0.24.0->yfinance) (2022.1)\n",
      "Requirement already satisfied: charset-normalizer<3,>=2 in c:\\users\\henri\\anaconda3\\lib\\site-packages (from requests>=2.26->yfinance) (2.0.4)\n",
      "Requirement already satisfied: idna<4,>=2.5 in c:\\users\\henri\\anaconda3\\lib\\site-packages (from requests>=2.26->yfinance) (3.3)\n",
      "Requirement already satisfied: urllib3<1.27,>=1.21.1 in c:\\users\\henri\\anaconda3\\lib\\site-packages (from requests>=2.26->yfinance) (1.26.11)\n",
      "Requirement already satisfied: certifi>=2017.4.17 in c:\\users\\henri\\anaconda3\\lib\\site-packages (from requests>=2.26->yfinance) (2022.9.14)\n",
      "Requirement already satisfied: six>=1.5 in c:\\users\\henri\\anaconda3\\lib\\site-packages (from python-dateutil>=2.8.1->pandas>=0.24.0->yfinance) (1.16.0)\n"
     ]
    }
   ],
   "source": [
    "!pip install yfinance"
   ]
  },
  {
   "cell_type": "code",
   "execution_count": 54,
   "id": "9dc1fa7a",
   "metadata": {},
   "outputs": [
    {
     "name": "stdout",
     "output_type": "stream",
     "text": [
      "Requirement already satisfied: pyautogui in c:\\users\\henri\\anaconda3\\lib\\site-packages (0.9.53)\n",
      "Requirement already satisfied: mouseinfo in c:\\users\\henri\\anaconda3\\lib\\site-packages (from pyautogui) (0.1.3)\n",
      "Requirement already satisfied: pyscreeze>=0.1.21 in c:\\users\\henri\\anaconda3\\lib\\site-packages (from pyautogui) (0.1.28)\n",
      "Requirement already satisfied: pygetwindow>=0.0.5 in c:\\users\\henri\\anaconda3\\lib\\site-packages (from pyautogui) (0.0.9)\n",
      "Requirement already satisfied: pymsgbox in c:\\users\\henri\\anaconda3\\lib\\site-packages (from pyautogui) (1.0.9)\n",
      "Requirement already satisfied: PyTweening>=1.0.1 in c:\\users\\henri\\anaconda3\\lib\\site-packages (from pyautogui) (1.0.4)\n",
      "Requirement already satisfied: pyrect in c:\\users\\henri\\anaconda3\\lib\\site-packages (from pygetwindow>=0.0.5->pyautogui) (0.2.0)\n",
      "Requirement already satisfied: pyperclip in c:\\users\\henri\\anaconda3\\lib\\site-packages (from mouseinfo->pyautogui) (1.8.2)\n"
     ]
    }
   ],
   "source": [
    "!pip install pyautogui"
   ]
  },
  {
   "cell_type": "code",
   "execution_count": 55,
   "id": "ea99924f",
   "metadata": {},
   "outputs": [
    {
     "name": "stdout",
     "output_type": "stream",
     "text": [
      "Requirement already satisfied: pyperclip in c:\\users\\henri\\anaconda3\\lib\\site-packages (1.8.2)\n"
     ]
    }
   ],
   "source": [
    "!pip install pyperclip"
   ]
  },
  {
   "cell_type": "markdown",
   "id": "0718186b",
   "metadata": {},
   "source": [
    "# Importando as Bibliotecas"
   ]
  },
  {
   "cell_type": "code",
   "execution_count": 56,
   "id": "5ed194d7",
   "metadata": {},
   "outputs": [],
   "source": [
    "import yfinance\n",
    "import pyautogui\n",
    "import pyperclip"
   ]
  },
  {
   "cell_type": "markdown",
   "id": "ee65d015",
   "metadata": {},
   "source": [
    "# Buscando as cotações de uma Ação"
   ]
  },
  {
   "cell_type": "code",
   "execution_count": 57,
   "id": "ad66a73c",
   "metadata": {},
   "outputs": [
    {
     "name": "stdout",
     "output_type": "stream",
     "text": [
      "Digite o código da ação: PETR4.SA\n"
     ]
    }
   ],
   "source": [
    "ticker = input('Digite o código da ação: ')\n",
    "dados = yfinance.Ticker(ticker)"
   ]
  },
  {
   "cell_type": "code",
   "execution_count": 58,
   "id": "daeba7fb",
   "metadata": {},
   "outputs": [
    {
     "data": {
      "text/html": [
       "<div>\n",
       "<style scoped>\n",
       "    .dataframe tbody tr th:only-of-type {\n",
       "        vertical-align: middle;\n",
       "    }\n",
       "\n",
       "    .dataframe tbody tr th {\n",
       "        vertical-align: top;\n",
       "    }\n",
       "\n",
       "    .dataframe thead th {\n",
       "        text-align: right;\n",
       "    }\n",
       "</style>\n",
       "<table border=\"1\" class=\"dataframe\">\n",
       "  <thead>\n",
       "    <tr style=\"text-align: right;\">\n",
       "      <th></th>\n",
       "      <th>Open</th>\n",
       "      <th>High</th>\n",
       "      <th>Low</th>\n",
       "      <th>Close</th>\n",
       "      <th>Volume</th>\n",
       "      <th>Dividends</th>\n",
       "      <th>Stock Splits</th>\n",
       "    </tr>\n",
       "    <tr>\n",
       "      <th>Date</th>\n",
       "      <th></th>\n",
       "      <th></th>\n",
       "      <th></th>\n",
       "      <th></th>\n",
       "      <th></th>\n",
       "      <th></th>\n",
       "      <th></th>\n",
       "    </tr>\n",
       "  </thead>\n",
       "  <tbody>\n",
       "    <tr>\n",
       "      <th>2022-11-07 00:00:00-03:00</th>\n",
       "      <td>24.463539</td>\n",
       "      <td>24.761021</td>\n",
       "      <td>23.684836</td>\n",
       "      <td>23.754831</td>\n",
       "      <td>117206600</td>\n",
       "      <td>0.0000</td>\n",
       "      <td>0</td>\n",
       "    </tr>\n",
       "    <tr>\n",
       "      <th>2022-11-08 00:00:00-03:00</th>\n",
       "      <td>23.676085</td>\n",
       "      <td>24.087312</td>\n",
       "      <td>23.404852</td>\n",
       "      <td>23.929821</td>\n",
       "      <td>94745400</td>\n",
       "      <td>0.0000</td>\n",
       "      <td>0</td>\n",
       "    </tr>\n",
       "    <tr>\n",
       "      <th>2022-11-09 00:00:00-03:00</th>\n",
       "      <td>23.754830</td>\n",
       "      <td>24.454789</td>\n",
       "      <td>23.308606</td>\n",
       "      <td>23.536093</td>\n",
       "      <td>103303500</td>\n",
       "      <td>0.0000</td>\n",
       "      <td>0</td>\n",
       "    </tr>\n",
       "    <tr>\n",
       "      <th>2022-11-10 00:00:00-03:00</th>\n",
       "      <td>22.818637</td>\n",
       "      <td>23.527344</td>\n",
       "      <td>22.407412</td>\n",
       "      <td>22.853636</td>\n",
       "      <td>145470100</td>\n",
       "      <td>0.0000</td>\n",
       "      <td>0</td>\n",
       "    </tr>\n",
       "    <tr>\n",
       "      <th>2022-11-11 00:00:00-03:00</th>\n",
       "      <td>22.573651</td>\n",
       "      <td>23.938571</td>\n",
       "      <td>22.486158</td>\n",
       "      <td>23.614840</td>\n",
       "      <td>146365800</td>\n",
       "      <td>0.0000</td>\n",
       "      <td>0</td>\n",
       "    </tr>\n",
       "    <tr>\n",
       "      <th>2022-11-14 00:00:00-03:00</th>\n",
       "      <td>23.851076</td>\n",
       "      <td>24.656028</td>\n",
       "      <td>23.702335</td>\n",
       "      <td>24.236053</td>\n",
       "      <td>66639500</td>\n",
       "      <td>0.0000</td>\n",
       "      <td>0</td>\n",
       "    </tr>\n",
       "    <tr>\n",
       "      <th>2022-11-16 00:00:00-03:00</th>\n",
       "      <td>24.332297</td>\n",
       "      <td>24.594782</td>\n",
       "      <td>23.562343</td>\n",
       "      <td>23.754831</td>\n",
       "      <td>85549900</td>\n",
       "      <td>0.0000</td>\n",
       "      <td>0</td>\n",
       "    </tr>\n",
       "    <tr>\n",
       "      <th>2022-11-17 00:00:00-03:00</th>\n",
       "      <td>23.623589</td>\n",
       "      <td>23.886072</td>\n",
       "      <td>23.229862</td>\n",
       "      <td>23.763580</td>\n",
       "      <td>101525800</td>\n",
       "      <td>0.0000</td>\n",
       "      <td>0</td>\n",
       "    </tr>\n",
       "    <tr>\n",
       "      <th>2022-11-18 00:00:00-03:00</th>\n",
       "      <td>23.973567</td>\n",
       "      <td>24.148558</td>\n",
       "      <td>22.941129</td>\n",
       "      <td>23.361105</td>\n",
       "      <td>127683500</td>\n",
       "      <td>0.0000</td>\n",
       "      <td>0</td>\n",
       "    </tr>\n",
       "    <tr>\n",
       "      <th>2022-11-21 00:00:00-03:00</th>\n",
       "      <td>23.728583</td>\n",
       "      <td>24.122309</td>\n",
       "      <td>22.792388</td>\n",
       "      <td>23.431101</td>\n",
       "      <td>164898100</td>\n",
       "      <td>0.0000</td>\n",
       "      <td>0</td>\n",
       "    </tr>\n",
       "    <tr>\n",
       "      <th>2022-11-22 00:00:00-03:00</th>\n",
       "      <td>23.000000</td>\n",
       "      <td>23.430000</td>\n",
       "      <td>22.299999</td>\n",
       "      <td>23.330000</td>\n",
       "      <td>164261300</td>\n",
       "      <td>3.3489</td>\n",
       "      <td>0</td>\n",
       "    </tr>\n",
       "    <tr>\n",
       "      <th>2022-11-23 00:00:00-03:00</th>\n",
       "      <td>23.000000</td>\n",
       "      <td>23.650000</td>\n",
       "      <td>22.799999</td>\n",
       "      <td>23.440001</td>\n",
       "      <td>77317300</td>\n",
       "      <td>0.0000</td>\n",
       "      <td>0</td>\n",
       "    </tr>\n",
       "    <tr>\n",
       "      <th>2022-11-24 00:00:00-03:00</th>\n",
       "      <td>23.520000</td>\n",
       "      <td>24.629999</td>\n",
       "      <td>23.250000</td>\n",
       "      <td>24.250000</td>\n",
       "      <td>94233800</td>\n",
       "      <td>0.0000</td>\n",
       "      <td>0</td>\n",
       "    </tr>\n",
       "    <tr>\n",
       "      <th>2022-11-25 00:00:00-03:00</th>\n",
       "      <td>24.260000</td>\n",
       "      <td>24.330000</td>\n",
       "      <td>23.600000</td>\n",
       "      <td>23.860001</td>\n",
       "      <td>58635900</td>\n",
       "      <td>0.0000</td>\n",
       "      <td>0</td>\n",
       "    </tr>\n",
       "    <tr>\n",
       "      <th>2022-11-28 00:00:00-03:00</th>\n",
       "      <td>23.650000</td>\n",
       "      <td>24.549999</td>\n",
       "      <td>23.540001</td>\n",
       "      <td>24.360001</td>\n",
       "      <td>56067400</td>\n",
       "      <td>0.0000</td>\n",
       "      <td>0</td>\n",
       "    </tr>\n",
       "    <tr>\n",
       "      <th>2022-11-29 00:00:00-03:00</th>\n",
       "      <td>24.600000</td>\n",
       "      <td>25.879999</td>\n",
       "      <td>24.480000</td>\n",
       "      <td>25.379999</td>\n",
       "      <td>96151500</td>\n",
       "      <td>0.0000</td>\n",
       "      <td>0</td>\n",
       "    </tr>\n",
       "    <tr>\n",
       "      <th>2022-11-30 00:00:00-03:00</th>\n",
       "      <td>25.600000</td>\n",
       "      <td>26.660000</td>\n",
       "      <td>25.500000</td>\n",
       "      <td>26.660000</td>\n",
       "      <td>120774700</td>\n",
       "      <td>0.0000</td>\n",
       "      <td>0</td>\n",
       "    </tr>\n",
       "    <tr>\n",
       "      <th>2022-12-01 00:00:00-03:00</th>\n",
       "      <td>26.580000</td>\n",
       "      <td>26.790001</td>\n",
       "      <td>25.559999</td>\n",
       "      <td>25.590000</td>\n",
       "      <td>71259400</td>\n",
       "      <td>0.0000</td>\n",
       "      <td>0</td>\n",
       "    </tr>\n",
       "    <tr>\n",
       "      <th>2022-12-02 00:00:00-03:00</th>\n",
       "      <td>25.690001</td>\n",
       "      <td>26.450001</td>\n",
       "      <td>25.309999</td>\n",
       "      <td>25.910000</td>\n",
       "      <td>66301000</td>\n",
       "      <td>0.0000</td>\n",
       "      <td>0</td>\n",
       "    </tr>\n",
       "    <tr>\n",
       "      <th>2022-12-05 00:00:00-03:00</th>\n",
       "      <td>26.000000</td>\n",
       "      <td>26.580000</td>\n",
       "      <td>25.549999</td>\n",
       "      <td>25.620001</td>\n",
       "      <td>56065400</td>\n",
       "      <td>0.0000</td>\n",
       "      <td>0</td>\n",
       "    </tr>\n",
       "    <tr>\n",
       "      <th>2022-12-06 00:00:00-03:00</th>\n",
       "      <td>25.820000</td>\n",
       "      <td>26.389999</td>\n",
       "      <td>25.420000</td>\n",
       "      <td>25.639999</td>\n",
       "      <td>74991200</td>\n",
       "      <td>0.0000</td>\n",
       "      <td>0</td>\n",
       "    </tr>\n",
       "  </tbody>\n",
       "</table>\n",
       "</div>"
      ],
      "text/plain": [
       "                                Open       High        Low      Close  \\\n",
       "Date                                                                    \n",
       "2022-11-07 00:00:00-03:00  24.463539  24.761021  23.684836  23.754831   \n",
       "2022-11-08 00:00:00-03:00  23.676085  24.087312  23.404852  23.929821   \n",
       "2022-11-09 00:00:00-03:00  23.754830  24.454789  23.308606  23.536093   \n",
       "2022-11-10 00:00:00-03:00  22.818637  23.527344  22.407412  22.853636   \n",
       "2022-11-11 00:00:00-03:00  22.573651  23.938571  22.486158  23.614840   \n",
       "2022-11-14 00:00:00-03:00  23.851076  24.656028  23.702335  24.236053   \n",
       "2022-11-16 00:00:00-03:00  24.332297  24.594782  23.562343  23.754831   \n",
       "2022-11-17 00:00:00-03:00  23.623589  23.886072  23.229862  23.763580   \n",
       "2022-11-18 00:00:00-03:00  23.973567  24.148558  22.941129  23.361105   \n",
       "2022-11-21 00:00:00-03:00  23.728583  24.122309  22.792388  23.431101   \n",
       "2022-11-22 00:00:00-03:00  23.000000  23.430000  22.299999  23.330000   \n",
       "2022-11-23 00:00:00-03:00  23.000000  23.650000  22.799999  23.440001   \n",
       "2022-11-24 00:00:00-03:00  23.520000  24.629999  23.250000  24.250000   \n",
       "2022-11-25 00:00:00-03:00  24.260000  24.330000  23.600000  23.860001   \n",
       "2022-11-28 00:00:00-03:00  23.650000  24.549999  23.540001  24.360001   \n",
       "2022-11-29 00:00:00-03:00  24.600000  25.879999  24.480000  25.379999   \n",
       "2022-11-30 00:00:00-03:00  25.600000  26.660000  25.500000  26.660000   \n",
       "2022-12-01 00:00:00-03:00  26.580000  26.790001  25.559999  25.590000   \n",
       "2022-12-02 00:00:00-03:00  25.690001  26.450001  25.309999  25.910000   \n",
       "2022-12-05 00:00:00-03:00  26.000000  26.580000  25.549999  25.620001   \n",
       "2022-12-06 00:00:00-03:00  25.820000  26.389999  25.420000  25.639999   \n",
       "\n",
       "                              Volume  Dividends  Stock Splits  \n",
       "Date                                                           \n",
       "2022-11-07 00:00:00-03:00  117206600     0.0000             0  \n",
       "2022-11-08 00:00:00-03:00   94745400     0.0000             0  \n",
       "2022-11-09 00:00:00-03:00  103303500     0.0000             0  \n",
       "2022-11-10 00:00:00-03:00  145470100     0.0000             0  \n",
       "2022-11-11 00:00:00-03:00  146365800     0.0000             0  \n",
       "2022-11-14 00:00:00-03:00   66639500     0.0000             0  \n",
       "2022-11-16 00:00:00-03:00   85549900     0.0000             0  \n",
       "2022-11-17 00:00:00-03:00  101525800     0.0000             0  \n",
       "2022-11-18 00:00:00-03:00  127683500     0.0000             0  \n",
       "2022-11-21 00:00:00-03:00  164898100     0.0000             0  \n",
       "2022-11-22 00:00:00-03:00  164261300     3.3489             0  \n",
       "2022-11-23 00:00:00-03:00   77317300     0.0000             0  \n",
       "2022-11-24 00:00:00-03:00   94233800     0.0000             0  \n",
       "2022-11-25 00:00:00-03:00   58635900     0.0000             0  \n",
       "2022-11-28 00:00:00-03:00   56067400     0.0000             0  \n",
       "2022-11-29 00:00:00-03:00   96151500     0.0000             0  \n",
       "2022-11-30 00:00:00-03:00  120774700     0.0000             0  \n",
       "2022-12-01 00:00:00-03:00   71259400     0.0000             0  \n",
       "2022-12-02 00:00:00-03:00   66301000     0.0000             0  \n",
       "2022-12-05 00:00:00-03:00   56065400     0.0000             0  \n",
       "2022-12-06 00:00:00-03:00   74991200     0.0000             0  "
      ]
     },
     "execution_count": 58,
     "metadata": {},
     "output_type": "execute_result"
    }
   ],
   "source": [
    "dados.history()"
   ]
  },
  {
   "cell_type": "markdown",
   "id": "951ed0c4",
   "metadata": {},
   "source": [
    "# Configurando o período histórico\n",
    "- Ano: y\n",
    "- Mês: mo\n",
    "- Dia: d"
   ]
  },
  {
   "cell_type": "code",
   "execution_count": 59,
   "id": "b02e7c30",
   "metadata": {},
   "outputs": [
    {
     "data": {
      "text/html": [
       "<div>\n",
       "<style scoped>\n",
       "    .dataframe tbody tr th:only-of-type {\n",
       "        vertical-align: middle;\n",
       "    }\n",
       "\n",
       "    .dataframe tbody tr th {\n",
       "        vertical-align: top;\n",
       "    }\n",
       "\n",
       "    .dataframe thead th {\n",
       "        text-align: right;\n",
       "    }\n",
       "</style>\n",
       "<table border=\"1\" class=\"dataframe\">\n",
       "  <thead>\n",
       "    <tr style=\"text-align: right;\">\n",
       "      <th></th>\n",
       "      <th>Open</th>\n",
       "      <th>High</th>\n",
       "      <th>Low</th>\n",
       "      <th>Close</th>\n",
       "      <th>Volume</th>\n",
       "      <th>Dividends</th>\n",
       "      <th>Stock Splits</th>\n",
       "    </tr>\n",
       "    <tr>\n",
       "      <th>Date</th>\n",
       "      <th></th>\n",
       "      <th></th>\n",
       "      <th></th>\n",
       "      <th></th>\n",
       "      <th></th>\n",
       "      <th></th>\n",
       "      <th></th>\n",
       "    </tr>\n",
       "  </thead>\n",
       "  <tbody>\n",
       "    <tr>\n",
       "      <th>2022-06-06 00:00:00-03:00</th>\n",
       "      <td>21.730055</td>\n",
       "      <td>21.751430</td>\n",
       "      <td>21.309703</td>\n",
       "      <td>21.587563</td>\n",
       "      <td>39213900</td>\n",
       "      <td>0.0</td>\n",
       "      <td>0</td>\n",
       "    </tr>\n",
       "    <tr>\n",
       "      <th>2022-06-07 00:00:00-03:00</th>\n",
       "      <td>21.509191</td>\n",
       "      <td>22.300022</td>\n",
       "      <td>21.487817</td>\n",
       "      <td>21.844048</td>\n",
       "      <td>80333700</td>\n",
       "      <td>0.0</td>\n",
       "      <td>0</td>\n",
       "    </tr>\n",
       "    <tr>\n",
       "      <th>2022-06-08 00:00:00-03:00</th>\n",
       "      <td>21.673057</td>\n",
       "      <td>22.193153</td>\n",
       "      <td>21.608936</td>\n",
       "      <td>21.737179</td>\n",
       "      <td>65923900</td>\n",
       "      <td>0.0</td>\n",
       "      <td>0</td>\n",
       "    </tr>\n",
       "    <tr>\n",
       "      <th>2022-06-09 00:00:00-03:00</th>\n",
       "      <td>21.737180</td>\n",
       "      <td>21.844049</td>\n",
       "      <td>21.359575</td>\n",
       "      <td>21.423697</td>\n",
       "      <td>53879000</td>\n",
       "      <td>0.0</td>\n",
       "      <td>0</td>\n",
       "    </tr>\n",
       "    <tr>\n",
       "      <th>2022-06-10 00:00:00-03:00</th>\n",
       "      <td>21.380948</td>\n",
       "      <td>21.380948</td>\n",
       "      <td>20.704110</td>\n",
       "      <td>21.124462</td>\n",
       "      <td>63101700</td>\n",
       "      <td>0.0</td>\n",
       "      <td>0</td>\n",
       "    </tr>\n",
       "    <tr>\n",
       "      <th>...</th>\n",
       "      <td>...</td>\n",
       "      <td>...</td>\n",
       "      <td>...</td>\n",
       "      <td>...</td>\n",
       "      <td>...</td>\n",
       "      <td>...</td>\n",
       "      <td>...</td>\n",
       "    </tr>\n",
       "    <tr>\n",
       "      <th>2022-11-30 00:00:00-03:00</th>\n",
       "      <td>25.600000</td>\n",
       "      <td>26.660000</td>\n",
       "      <td>25.500000</td>\n",
       "      <td>26.660000</td>\n",
       "      <td>120774700</td>\n",
       "      <td>0.0</td>\n",
       "      <td>0</td>\n",
       "    </tr>\n",
       "    <tr>\n",
       "      <th>2022-12-01 00:00:00-03:00</th>\n",
       "      <td>26.580000</td>\n",
       "      <td>26.790001</td>\n",
       "      <td>25.559999</td>\n",
       "      <td>25.590000</td>\n",
       "      <td>71259400</td>\n",
       "      <td>0.0</td>\n",
       "      <td>0</td>\n",
       "    </tr>\n",
       "    <tr>\n",
       "      <th>2022-12-02 00:00:00-03:00</th>\n",
       "      <td>25.690001</td>\n",
       "      <td>26.450001</td>\n",
       "      <td>25.309999</td>\n",
       "      <td>25.910000</td>\n",
       "      <td>66301000</td>\n",
       "      <td>0.0</td>\n",
       "      <td>0</td>\n",
       "    </tr>\n",
       "    <tr>\n",
       "      <th>2022-12-05 00:00:00-03:00</th>\n",
       "      <td>26.000000</td>\n",
       "      <td>26.580000</td>\n",
       "      <td>25.549999</td>\n",
       "      <td>25.620001</td>\n",
       "      <td>56065400</td>\n",
       "      <td>0.0</td>\n",
       "      <td>0</td>\n",
       "    </tr>\n",
       "    <tr>\n",
       "      <th>2022-12-06 00:00:00-03:00</th>\n",
       "      <td>25.820000</td>\n",
       "      <td>26.389999</td>\n",
       "      <td>25.420000</td>\n",
       "      <td>25.639999</td>\n",
       "      <td>74991200</td>\n",
       "      <td>0.0</td>\n",
       "      <td>0</td>\n",
       "    </tr>\n",
       "  </tbody>\n",
       "</table>\n",
       "<p>127 rows × 7 columns</p>\n",
       "</div>"
      ],
      "text/plain": [
       "                                Open       High        Low      Close  \\\n",
       "Date                                                                    \n",
       "2022-06-06 00:00:00-03:00  21.730055  21.751430  21.309703  21.587563   \n",
       "2022-06-07 00:00:00-03:00  21.509191  22.300022  21.487817  21.844048   \n",
       "2022-06-08 00:00:00-03:00  21.673057  22.193153  21.608936  21.737179   \n",
       "2022-06-09 00:00:00-03:00  21.737180  21.844049  21.359575  21.423697   \n",
       "2022-06-10 00:00:00-03:00  21.380948  21.380948  20.704110  21.124462   \n",
       "...                              ...        ...        ...        ...   \n",
       "2022-11-30 00:00:00-03:00  25.600000  26.660000  25.500000  26.660000   \n",
       "2022-12-01 00:00:00-03:00  26.580000  26.790001  25.559999  25.590000   \n",
       "2022-12-02 00:00:00-03:00  25.690001  26.450001  25.309999  25.910000   \n",
       "2022-12-05 00:00:00-03:00  26.000000  26.580000  25.549999  25.620001   \n",
       "2022-12-06 00:00:00-03:00  25.820000  26.389999  25.420000  25.639999   \n",
       "\n",
       "                              Volume  Dividends  Stock Splits  \n",
       "Date                                                           \n",
       "2022-06-06 00:00:00-03:00   39213900        0.0             0  \n",
       "2022-06-07 00:00:00-03:00   80333700        0.0             0  \n",
       "2022-06-08 00:00:00-03:00   65923900        0.0             0  \n",
       "2022-06-09 00:00:00-03:00   53879000        0.0             0  \n",
       "2022-06-10 00:00:00-03:00   63101700        0.0             0  \n",
       "...                              ...        ...           ...  \n",
       "2022-11-30 00:00:00-03:00  120774700        0.0             0  \n",
       "2022-12-01 00:00:00-03:00   71259400        0.0             0  \n",
       "2022-12-02 00:00:00-03:00   66301000        0.0             0  \n",
       "2022-12-05 00:00:00-03:00   56065400        0.0             0  \n",
       "2022-12-06 00:00:00-03:00   74991200        0.0             0  \n",
       "\n",
       "[127 rows x 7 columns]"
      ]
     },
     "execution_count": 59,
     "metadata": {},
     "output_type": "execute_result"
    }
   ],
   "source": [
    "tabela = dados.history(\"6mo\")\n",
    "tabela"
   ]
  },
  {
   "cell_type": "markdown",
   "id": "274ad575",
   "metadata": {},
   "source": [
    "# Selecionando apenas a coluna de Fechamento (Close)\n",
    "- Para selecionar a coluna desejada, basta colocar o nome dela entre colchetes na frente da variável que está armazenando os dados"
   ]
  },
  {
   "cell_type": "code",
   "execution_count": 60,
   "id": "3d159157",
   "metadata": {},
   "outputs": [
    {
     "data": {
      "text/plain": [
       "Date\n",
       "2022-06-06 00:00:00-03:00    21.587563\n",
       "2022-06-07 00:00:00-03:00    21.844048\n",
       "2022-06-08 00:00:00-03:00    21.737179\n",
       "2022-06-09 00:00:00-03:00    21.423697\n",
       "2022-06-10 00:00:00-03:00    21.124462\n",
       "                               ...    \n",
       "2022-11-30 00:00:00-03:00    26.660000\n",
       "2022-12-01 00:00:00-03:00    25.590000\n",
       "2022-12-02 00:00:00-03:00    25.910000\n",
       "2022-12-05 00:00:00-03:00    25.620001\n",
       "2022-12-06 00:00:00-03:00    25.639999\n",
       "Name: Close, Length: 127, dtype: float64"
      ]
     },
     "execution_count": 60,
     "metadata": {},
     "output_type": "execute_result"
    }
   ],
   "source": [
    "fechamento = tabela.Close\n",
    "fechamento"
   ]
  },
  {
   "cell_type": "markdown",
   "id": "19f1cb31",
   "metadata": {},
   "source": [
    "# Gerando um Gráfico de Linha\n",
    "- Gerando um gráfico simples utilizando um método simples chamado .plot()\n"
   ]
  },
  {
   "cell_type": "code",
   "execution_count": 61,
   "id": "a32cd4b7",
   "metadata": {},
   "outputs": [
    {
     "data": {
      "text/plain": [
       "<AxesSubplot:xlabel='Date'>"
      ]
     },
     "execution_count": 61,
     "metadata": {},
     "output_type": "execute_result"
    },
    {
     "data": {
      "image/png": "[encoded data removed]",
      "text/plain": [
       "<Figure size 640x480 with 1 Axes>"
      ]
     },
     "metadata": {},
     "output_type": "display_data"
    }
   ],
   "source": [
    "fechamento.plot()"
   ]
  },
  {
   "cell_type": "markdown",
   "id": "6c3a0a8d",
   "metadata": {},
   "source": [
    "# Gerando as estatísticas"
   ]
  },
  {
   "cell_type": "markdown",
   "id": "bede374d",
   "metadata": {},
   "source": [
    "- Gerar estatísticas no Python é muito simples, pois já temos os métodos prontos para serem aplicados!\n",
    "- cotação máxima: max()\n",
    "- votação mínima: min()\n",
    "- cotação atual: é a última linha!Para acessá-la basta colocar [-1]"
   ]
  },
  {
   "cell_type": "code",
   "execution_count": 62,
   "id": "a3d55127",
   "metadata": {},
   "outputs": [
    {
     "name": "stdout",
     "output_type": "stream",
     "text": [
      "33.003028869628906\n",
      "18.730594635009766\n",
      "25.639999389648438\n"
     ]
    }
   ],
   "source": [
    "maxima = fechamento.max()\n",
    "minima = fechamento.min()\n",
    "atual = fechamento[-1]\n",
    "print(maxima)\n",
    "print(minima)\n",
    "print(atual)"
   ]
  },
  {
   "cell_type": "markdown",
   "id": "11b36384",
   "metadata": {},
   "source": [
    "# Enviando e-mail de forma automática\n",
    "- Processo de enviar um e-mail passo a passo:\n",
    "- abrir uma nova aba no navegador (clicar em + ou CTRL + T)\n",
    "- digitar o endereço do gmail (www.gmail.com) e digitar ENTER\n",
    "- clicar em Escrever\n",
    "- digitar o endereço de e-mail do destinatário\n",
    "- mudar para o campo Assunto (clicar no campo ou digitar tab)\n",
    "- digitar o Assunto\n",
    "- mudar para campo principal do e-mail (clicar no campo ou digitar tab)\n",
    "- escrever a mensagem\n",
    "- clicar em Enviar"
   ]
  },
  {
   "cell_type": "markdown",
   "id": "ef621759",
   "metadata": {},
   "source": [
    "# Criando o e-mail que vamos enviar"
   ]
  },
  {
   "cell_type": "code",
   "execution_count": 66,
   "id": "d26a33c0",
   "metadata": {},
   "outputs": [],
   "source": [
    "destinatario = \"henriquersalomao@gmail.com\"\n",
    "assunto = \"Análise diária\"\n",
    "\n",
    "mensagem = f\"\"\"\n",
    "Bom dia,\n",
    "Segue abaixo as análises da ação {ticker} dos últimos seis meses:\n",
    "Cotação máxima: R${round(maxima,2)}\n",
    "Cotação mínima: R${round(minima,2)}\n",
    "Cotação atual: R${round(atual,2)}\n",
    "\n",
    "Atenciosamente,\n",
    "Henrique Salomao.\n",
    "\"\"\""
   ]
  },
  {
   "cell_type": "code",
   "execution_count": 67,
   "id": "4cf4aec9",
   "metadata": {},
   "outputs": [
    {
     "name": "stdout",
     "output_type": "stream",
     "text": [
      "henriquersalomao@gmail.com\n",
      "Análise diária\n",
      "\n",
      "Bom dia,\n",
      "Segue abaixo as análises da ação PETR4.SA dos últimos seis meses:\n",
      "Cotação máxima: R$33.0\n",
      "Cotação mínima: R$18.73\n",
      "Cotação atual: R$25.64\n",
      "\n",
      "Atenciosamente,\n",
      "Henrique Salomao.\n",
      "\n"
     ]
    }
   ],
   "source": [
    "print(destinatario)\n",
    "print(assunto)\n",
    "print(mensagem)"
   ]
  },
  {
   "cell_type": "markdown",
   "id": "390c24bc",
   "metadata": {},
   "source": [
    "# Automatizando o envio"
   ]
  },
  {
   "cell_type": "code",
   "execution_count": null,
   "id": "b1e52159",
   "metadata": {},
   "outputs": [],
   "source": [
    "# configurar uma pausa entre as ações do pyautogui\n",
    "pyautogui.PAUSE = 3\n",
    "\n",
    "# abrir uma nova aba\n",
    "pyautogui.hotkey(\"ctrl\", \"t\")\n",
    "\n",
    "# copiar o endereço do gmail para o clipboard\n",
    "pyperclip.copy(\"www.gmail.com\")\n",
    "\n",
    "# colar o endereço do gmail e dar um ENTER\n",
    "pyautogui.hotkey(\"ctrl\", \"v\")\n",
    "pyautogui.press(\"enter\")\n",
    "\n",
    "# clicando no botão Escrever\n",
    "pyautogui.click(x=52, y=156)\n",
    "\n",
    "# Preenchendo o destinatário\n",
    "pyperclip.copy(destinatario)\n",
    "pyautogui.hotkey(\"ctrl\", \"v\")\n",
    "pyautogui.press(\"tab\")\n",
    "\n",
    "# Preenchendo o assunto\n",
    "pyperclip.copy(assunto)\n",
    "pyautogui.hotkey(\"ctrl\", \"v\")\n",
    "pyautogui.press(\"tab\")\n",
    "\n",
    "# Preenchendo a mensagem\n",
    "pyperclip.copy(mensagem)\n",
    "pyautogui.hotkey(\"ctrl\", \"v\")\n",
    "\n",
    "# Clicar no botão Enviar\n",
    "pyautogui.click(x=790, y=699)\n",
    "\n",
    "# fechar a aba do gmail\n",
    "pyautogui.hotkey(\"ctrl\", \"f4\")\n",
    "\n",
    "# Imprimir mensagem de enviado com sucesso\n",
    "print('E-mail enviado com sucesso!')"
   ]
  },
  {
   "cell_type": "markdown",
   "id": "27446c69",
   "metadata": {},
   "source": [
    "# Código para descobrir as coordenados do mouse"
   ]
  },
  {
   "cell_type": "code",
   "execution_count": null,
   "id": "754a57c0",
   "metadata": {},
   "outputs": [],
   "source": [
    "import time\n",
    "time.sleep(5)\n",
    "pyautogui.position()"
   ]
  },
  {
   "cell_type": "code",
   "execution_count": null,
   "id": "48832a95",
   "metadata": {},
   "outputs": [],
   "source": []
  }
 ],
 "metadata": {
  "kernelspec": {
   "display_name": "Python 3 (ipykernel)",
   "language": "python",
   "name": "python3"
  },
  "language_info": {
   "codemirror_mode": {
    "name": "ipython",
    "version": 3
   },
   "file_extension": ".py",
   "mimetype": "text/x-python",
   "name": "python",
   "nbconvert_exporter": "python",
   "pygments_lexer": "ipython3",
   "version": "3.9.13"
  }
 },
 "nbformat": 4,
 "nbformat_minor": 5
}
